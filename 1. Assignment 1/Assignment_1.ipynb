{
  "nbformat": 4,
  "nbformat_minor": 0,
  "metadata": {
    "colab": {
      "provenance": []
    },
    "kernelspec": {
      "name": "python3",
      "display_name": "Python 3"
    },
    "language_info": {
      "name": "python"
    }
  },
  "cells": [
    {
      "cell_type": "markdown",
      "source": [
        "# **1. In the below elements which of them are values or an expression? eg:- values can be integer or string and expressions will be mathematical operators.**\n",
        "\n",
        "\n",
        "```\n",
        "*\n",
        "hello\n",
        "-87.8\n",
        "-\n",
        "/\n",
        "+\n",
        "6\n",
        "\n",
        "```\n",
        "\n",
        "\n",
        "\n"
      ],
      "metadata": {
        "id": "zTISdQihWoQa"
      }
    },
    {
      "cell_type": "markdown",
      "source": [
        "**Ans :** In the above list of elements, the values and expressitions are as below,\n",
        "\n",
        "\n",
        "\n",
        "*   Values : hello, -87.8, 6 (as they ate integer or strings)\n",
        "*   Expression : *, -, /, + (as they are the mathematical operations)\n",
        "\n"
      ],
      "metadata": {
        "id": "slzqbsGFXMQP"
      }
    },
    {
      "cell_type": "markdown",
      "source": [
        "\n",
        "\n",
        "---\n",
        "\n",
        "# **2. What is the difference between a string and a variable?**\n",
        "\n",
        "\n"
      ],
      "metadata": {
        "id": "m-nT3ej2ZPTv"
      }
    },
    {
      "cell_type": "markdown",
      "source": [
        "**Ans:** A **string** can be a combination of letters, words or even numbers (`eg: \"2\"`), which are enclosed in a \"\" or ''. A single letter can also be called as a string. Which is mainly used to represent names, information to be printed or any character information. \n",
        "\n",
        "`eg: \"jerry\", \"house no 123\", \"a\"`\n",
        "\n",
        "A variable is something that can store any values, that means a varaiable can hold a string, int, float, list etc. In python we dont want to explicitly assign the datatype for the varaiable. A value can be assigned to a varibale using \"=\".\n",
        "\n",
        "`eg : jerry_age => jerry_age is a variable`\n",
        "\n",
        "we can assign a value to jerry_age by\n",
        "\n",
        "`jerry_age = 20`"
      ],
      "metadata": {
        "id": "iau1d5T5byOY"
      }
    },
    {
      "cell_type": "markdown",
      "source": [
        "\n",
        "\n",
        "---\n",
        "\n",
        "\n",
        "# **3. Describe three different data types.**"
      ],
      "metadata": {
        "id": "somk3ujZcpu9"
      }
    },
    {
      "cell_type": "markdown",
      "source": [
        "Ans : The three different data types i am going to explain are numerical datatype, string datatypes and boolean datatype.\n",
        "\n",
        "\n",
        "\n",
        "1.   **Numerical data types** \n",
        "\n",
        "    Python numeric data type is used to hold numeric values like;\n",
        "\n",
        "    1. **int** - holds signed integers of non-limited length.\n",
        "\n",
        "    `eg: a = 12`\n",
        "\n",
        "        where type of a will be int, as it carries an integer value.\n",
        "\n",
        "    2. **float**- holds floating precision numbers and it’s accurate up to 15 decimal places.\n",
        "\n",
        "    `eg: a = 1.2`\n",
        "\n",
        "    Where type of a will be float as it contain floating point values\n",
        "\n",
        "    3. **complex**- holds complex numbers.\n",
        "\n",
        "    `eg: 3 + 4i`\n",
        "\n",
        "2.   **String Datatype**\n",
        "\n",
        "    A **string** can be a combination of letters, words or even numbers (`eg: \"2\"`), which are enclosed in a \"\" or ''. A single letter can also be called as a string. Which is mainly used to represent names, information to be printed or any character information. \n",
        "\n",
        "    `eg: name = \"my name is jerry\"`\n",
        "\n",
        "\n",
        "3.  **Boolean Datatype**\n",
        "\n",
        "    The Python Boolean type has only two possible values:\n",
        "\n",
        "\n",
        "*   True\n",
        "*   False\n",
        "\n",
        "    The Python Boolean type is one of Python’s built-in data types. It’s used to represent the truth value of an expression. For example, the expression 1 <= 2 is True, while the expression 0 == 1 is False. \n",
        "\n",
        "    `eg: a = True`\n",
        "\n",
        "    The boolean datatype. is case sensitive \n"
      ],
      "metadata": {
        "id": "xbnYD2HYdFCQ"
      }
    },
    {
      "cell_type": "markdown",
      "source": [
        "\n",
        "\n",
        "---\n",
        "\n",
        "# **4. What is an expression made up of? What do all expressions do?**\n"
      ],
      "metadata": {
        "id": "_eHbVvVejdHO"
      }
    },
    {
      "cell_type": "markdown",
      "source": [
        "**Ans:** Expressions are made up of a combination of operators and operands. Where operators are mathematical symbols like +, -, /, = etc and operands can be any value that can be operated.\n",
        "\n",
        "Expressions are used to produce reults by applying operators on the operands. If there is multiple operators, it will be selected based on the precidence. \n",
        "\n",
        "`eg : a = 2 + 3`\n",
        "\n",
        "    where 2 and 3 are the operands and the + is the operator"
      ],
      "metadata": {
        "id": "yht_z3-2jshY"
      }
    },
    {
      "cell_type": "markdown",
      "source": [
        "\n",
        "\n",
        "---\n",
        "# **5. This assignment statements, like spam = 10. What is the difference between an expression and a statement?**\n"
      ],
      "metadata": {
        "id": "xidq3BM-pMgO"
      }
    },
    {
      "cell_type": "markdown",
      "source": [
        "**Ans:** The main difference between an expression and a statement is that, an expression will always contain one or more operators with the operand.\n",
        "\n",
        "`eg: a = 2 + 3`\n",
        "\n",
        "While the statements will not contain any operators, as shown in the example `spam = 10`, here the value 10 is directly assigning to the variable spam.\n",
        "\n",
        "`eg : jerry_age = 10`\n",
        "\n",
        "For the expression there will be an answer after running the expression.\n",
        "\n"
      ],
      "metadata": {
        "id": "z0NW7NVapV2X"
      }
    },
    {
      "cell_type": "markdown",
      "source": [
        "\n",
        "\n",
        "---\n",
        "\n",
        "# **6. After running the following code, what does the variable bacon contain?**\n",
        "\n",
        "```\n",
        "bacon = 22\n",
        "bacon + 1\n",
        "```\n",
        "\n"
      ],
      "metadata": {
        "id": "P6gFQljQqoEe"
      }
    },
    {
      "cell_type": "markdown",
      "source": [
        "**Ans:** After running the code, the variable bacon will contain the value 22. Because even though the value of the variable bacon is updated by one. Which is not storing back to bacon. So the previous value only be present at the varaiable.\n",
        "\n",
        "\n",
        "\n",
        "```\n",
        "# The ans will be 23 if the code is like\n",
        "\n",
        "bacon = 22\n",
        "bacon = bacon + 1\n",
        "```\n",
        "\n"
      ],
      "metadata": {
        "id": "5mrAlKl3qwL2"
      }
    },
    {
      "cell_type": "code",
      "source": [
        "bacon = 22\n",
        "bacon + 1\n",
        "print(bacon)"
      ],
      "metadata": {
        "colab": {
          "base_uri": "https://localhost:8080/"
        },
        "id": "1l5g6-YOrvPa",
        "outputId": "966ebace-1b5e-4efa-bb11-4785bbf08390"
      },
      "execution_count": 1,
      "outputs": [
        {
          "output_type": "stream",
          "name": "stdout",
          "text": [
            "22\n"
          ]
        }
      ]
    },
    {
      "cell_type": "code",
      "source": [
        "bacon = 22\n",
        "bacon = bacon + 1\n",
        "print(bacon)"
      ],
      "metadata": {
        "colab": {
          "base_uri": "https://localhost:8080/"
        },
        "id": "OA4k8du8rrnz",
        "outputId": "101eb6a0-b956-4b7b-ed1e-eba4de2f0fc5"
      },
      "execution_count": 2,
      "outputs": [
        {
          "output_type": "stream",
          "name": "stdout",
          "text": [
            "23\n"
          ]
        }
      ]
    },
    {
      "cell_type": "markdown",
      "source": [
        "---\n",
        "# **7. What should the values of the following two terms be?**\n",
        "\n",
        "\n",
        "\n",
        "```\n",
        "'spam' + 'spamspam'\n",
        "'spam' * 3\n",
        "```\n",
        "\n"
      ],
      "metadata": {
        "id": "UYbQaHx-ri23"
      }
    },
    {
      "cell_type": "markdown",
      "source": [
        "**Ans:** `'spam' + 'spamspam'` will join together using the `+` symbol.\n",
        "\n",
        "`'spam' * 3` will make the spam word repeat 3 times. "
      ],
      "metadata": {
        "id": "GNVE86EYsS4h"
      }
    },
    {
      "cell_type": "code",
      "execution_count": 3,
      "metadata": {
        "colab": {
          "base_uri": "https://localhost:8080/",
          "height": 35
        },
        "id": "dpUljSv_WPVj",
        "outputId": "1dda0eb1-0ab4-4db0-d9a9-2998c13105d4"
      },
      "outputs": [
        {
          "output_type": "execute_result",
          "data": {
            "text/plain": [
              "'spamspamspam'"
            ],
            "application/vnd.google.colaboratory.intrinsic+json": {
              "type": "string"
            }
          },
          "metadata": {},
          "execution_count": 3
        }
      ],
      "source": [
        "'spam' + 'spamspam'\n"
      ]
    },
    {
      "cell_type": "code",
      "source": [
        "'spam' * 3"
      ],
      "metadata": {
        "colab": {
          "base_uri": "https://localhost:8080/",
          "height": 35
        },
        "id": "VsaOQSbLsPci",
        "outputId": "3dd7b9dd-ba8c-434a-9d98-29aa06c307be"
      },
      "execution_count": 4,
      "outputs": [
        {
          "output_type": "execute_result",
          "data": {
            "text/plain": [
              "'spamspamspam'"
            ],
            "application/vnd.google.colaboratory.intrinsic+json": {
              "type": "string"
            }
          },
          "metadata": {},
          "execution_count": 4
        }
      ]
    },
    {
      "cell_type": "markdown",
      "source": [
        "\n",
        "\n",
        "---\n",
        "# **8. Why is eggs a valid variable name while 100 is invalid?**\n"
      ],
      "metadata": {
        "id": "mBtrdmgCssq0"
      }
    },
    {
      "cell_type": "markdown",
      "source": [
        "**Ans:** The reason why `100` is not a valid variable name is because in python a varibale name must start with a letter or the underscore charater. While the varibale name `eggs` satisfies all the conditions to be a valid varaiable name.\n",
        "\n",
        "\n",
        "\n",
        "```\n",
        "Valid varaiable name example\n",
        "\n",
        "jerry\n",
        "_jerry\n",
        "jery12\n",
        "```\n",
        "\n"
      ],
      "metadata": {
        "id": "J7DZ8WR_s7RK"
      }
    },
    {
      "cell_type": "markdown",
      "source": [
        "\n",
        "\n",
        "---\n",
        "# **9. What three functions can be used to get the integer, floating-point number, or string version of a value?**\n"
      ],
      "metadata": {
        "id": "gmMRPmZgtqoH"
      }
    },
    {
      "cell_type": "markdown",
      "source": [
        "**Ans:** The three functions that is used to get the integer, floating point number or string of a value is\n",
        "\n",
        "\n",
        "\n",
        "1.   **int() :** Which convert any values to integer.\n",
        "\n",
        "\n",
        "```\n",
        "      eg: value = 10.1\n",
        "          int(value)\n",
        "```\n",
        "\n",
        "\n",
        "2.   **float() :** Which convert a value to floating point number.\n",
        "\n",
        "\n",
        "\n",
        "```\n",
        "eg: value = 10\n",
        "    float(value)\n",
        "```\n",
        "3. **str() :** Which convert a value to string.\n",
        "\n",
        "\n",
        "\n",
        "```\n",
        "eg: value = 10\n",
        "    str(value)\n",
        "```\n",
        "\n",
        "\n",
        "\n",
        "\n"
      ],
      "metadata": {
        "id": "O6B9O24-uBSt"
      }
    },
    {
      "cell_type": "code",
      "source": [
        "#Example\n",
        "\n",
        "value = 10.1\n",
        "\n",
        "print(type(int(value)))\n",
        "\n",
        "print(type(float(value)))\n",
        "\n",
        "print(type(str(value)))"
      ],
      "metadata": {
        "colab": {
          "base_uri": "https://localhost:8080/"
        },
        "id": "Q8slKmYuz09M",
        "outputId": "fb95aaa9-8472-4cbd-a11b-08de0486513b"
      },
      "execution_count": 8,
      "outputs": [
        {
          "output_type": "stream",
          "name": "stdout",
          "text": [
            "<class 'int'>\n",
            "<class 'float'>\n",
            "<class 'str'>\n"
          ]
        }
      ]
    },
    {
      "cell_type": "markdown",
      "source": [
        "\n",
        "\n",
        "---\n",
        "# **10. Why does this expression cause an error? How can you fix it?**\n",
        "\n",
        "\n",
        "\n",
        "```\n",
        "'I have eaten' + 99 + 'burritos'\n",
        "```\n",
        "\n",
        "\n"
      ],
      "metadata": {
        "id": "fpGHg8sW1CSq"
      }
    },
    {
      "cell_type": "markdown",
      "source": [
        "**Ans:** A **type error** will be shown when we run the above code. Because we can only concatenate strings using the + symbol. But in the above sentence they are trying to concatinate an integer with the string. That will cause an type error. \n",
        "\n",
        "To solve that use just convert the type of 99 to string. Either by adding quotes `(\"\"/'')` or using `str()` function."
      ],
      "metadata": {
        "id": "x2enLASC1Uxc"
      }
    },
    {
      "cell_type": "code",
      "source": [
        "'I have eaten' + \"99\" + 'burritos'"
      ],
      "metadata": {
        "colab": {
          "base_uri": "https://localhost:8080/",
          "height": 35
        },
        "id": "GWH3VQeK1Ont",
        "outputId": "5013cfaa-e39f-41a7-8f73-d29c793f152e"
      },
      "execution_count": 10,
      "outputs": [
        {
          "output_type": "execute_result",
          "data": {
            "text/plain": [
              "'I have eaten99burritos'"
            ],
            "application/vnd.google.colaboratory.intrinsic+json": {
              "type": "string"
            }
          },
          "metadata": {},
          "execution_count": 10
        }
      ]
    },
    {
      "cell_type": "code",
      "source": [
        "'I have eaten' + str(99) + 'burritos'"
      ],
      "metadata": {
        "colab": {
          "base_uri": "https://localhost:8080/",
          "height": 35
        },
        "id": "EWZlxfEw1-zD",
        "outputId": "30fd344d-afbb-4310-d3ca-b16c5d28759b"
      },
      "execution_count": 11,
      "outputs": [
        {
          "output_type": "execute_result",
          "data": {
            "text/plain": [
              "'I have eaten99burritos'"
            ],
            "application/vnd.google.colaboratory.intrinsic+json": {
              "type": "string"
            }
          },
          "metadata": {},
          "execution_count": 11
        }
      ]
    }
  ]
}